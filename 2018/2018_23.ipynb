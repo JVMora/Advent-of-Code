{
 "cells": [
  {
   "cell_type": "code",
   "execution_count": 1,
   "metadata": {},
   "outputs": [],
   "source": [
    "from scipy.spatial import distance\n",
    "import re \n",
    "from z3 import *"
   ]
  },
  {
   "cell_type": "code",
   "execution_count": 2,
   "metadata": {},
   "outputs": [],
   "source": [
    "def parse(file_name):\n",
    "    nanobots = []\n",
    "    with open(file_name) as f:\n",
    "        for line in f.readlines():\n",
    "            position = list(map(int, re.findall(r\"\\<(.*?)\\>\", line)[0].split(',')))\n",
    "            radius = int(re.findall('r=(\\d+)', line)[0])\n",
    "            nanobots.append((position, radius))\n",
    "    return nanobots"
   ]
  },
  {
   "cell_type": "code",
   "execution_count": 3,
   "metadata": {},
   "outputs": [],
   "source": [
    "nanobots = parse('input2018_23.txt')"
   ]
  },
  {
   "cell_type": "code",
   "execution_count": 4,
   "metadata": {},
   "outputs": [],
   "source": [
    "maxr = 0\n",
    "for p, r in nanobots:\n",
    "    if r > maxr: \n",
    "        maxr = r\n",
    "        origin = p"
   ]
  },
  {
   "cell_type": "code",
   "execution_count": 5,
   "metadata": {},
   "outputs": [
    {
     "data": {
      "text/plain": [
       "573"
      ]
     },
     "execution_count": 5,
     "metadata": {},
     "output_type": "execute_result"
    }
   ],
   "source": [
    "n = 0\n",
    "for p, r in nanobots:\n",
    "    d = distance.cityblock(p, origin)\n",
    "    if d <= maxr:\n",
    "        n += 1\n",
    "n"
   ]
  },
  {
   "cell_type": "code",
   "execution_count": 6,
   "metadata": {},
   "outputs": [],
   "source": [
    "# Part b"
   ]
  },
  {
   "cell_type": "code",
   "execution_count": 7,
   "metadata": {},
   "outputs": [],
   "source": [
    "def manhatten(xyz_a, xyz_b):\n",
    "    return abs(xyz_b[0] - xyz_a[0]) + abs(xyz_b[1] - xyz_a[1]) + abs(xyz_b[2] - xyz_a[2])\n",
    "\n",
    "def z3_abs(x):\n",
    "    return If(x >= 0, x, -x)\n",
    "\n",
    "def z3_manhatten(x, y):\n",
    "    return z3_abs(x[0] - y[0]) + z3_abs(x[1] - y[1]) + z3_abs(x[2] - y[2])"
   ]
  },
  {
   "cell_type": "code",
   "execution_count": 8,
   "metadata": {},
   "outputs": [],
   "source": [
    "x = Int('x')\n",
    "y = Int('y')\n",
    "z = Int('z')\n",
    "orig = (x, y, z)"
   ]
  },
  {
   "cell_type": "code",
   "execution_count": 9,
   "metadata": {},
   "outputs": [],
   "source": [
    "cost_expr = 0\n",
    "for bot in nanobots:\n",
    "    cost_expr += If(z3_manhatten(orig, bot[0]) <= bot[1], 1, 0)"
   ]
  },
  {
   "cell_type": "code",
   "execution_count": 10,
   "metadata": {},
   "outputs": [
    {
     "data": {
      "text/html": [
       "<b>sat</b>"
      ],
      "text/plain": [
       "sat"
      ]
     },
     "execution_count": 10,
     "metadata": {},
     "output_type": "execute_result"
    }
   ],
   "source": [
    "opt = Optimize()\n",
    "opt.maximize(cost_expr)\n",
    "opt.minimize(z3_manhatten((0,0,0), orig))\n",
    "opt.check()"
   ]
  },
  {
   "cell_type": "code",
   "execution_count": 11,
   "metadata": {},
   "outputs": [],
   "source": [
    "model = opt.model()"
   ]
  },
  {
   "cell_type": "code",
   "execution_count": 12,
   "metadata": {},
   "outputs": [
    {
     "name": "stdout",
     "output_type": "stream",
     "text": [
      "107279292\n"
     ]
    }
   ],
   "source": [
    "print(manhatten((0,0,0), (model[x].as_long(), model[y].as_long(), model[z].as_long())))"
   ]
  },
  {
   "cell_type": "code",
   "execution_count": null,
   "metadata": {},
   "outputs": [],
   "source": []
  }
 ],
 "metadata": {
  "kernelspec": {
   "display_name": "Python 3 (ipykernel)",
   "language": "python",
   "name": "python3"
  },
  "language_info": {
   "codemirror_mode": {
    "name": "ipython",
    "version": 3
   },
   "file_extension": ".py",
   "mimetype": "text/x-python",
   "name": "python",
   "nbconvert_exporter": "python",
   "pygments_lexer": "ipython3",
   "version": "3.9.1"
  }
 },
 "nbformat": 4,
 "nbformat_minor": 4
}
