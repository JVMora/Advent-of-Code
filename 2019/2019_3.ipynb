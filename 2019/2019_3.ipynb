{
 "cells": [
  {
   "cell_type": "code",
   "execution_count": 1,
   "metadata": {},
   "outputs": [],
   "source": [
    "from scipy.spatial import distance"
   ]
  },
  {
   "cell_type": "code",
   "execution_count": 2,
   "metadata": {},
   "outputs": [],
   "source": [
    "inp = [list(map(lambda x: (x[0], int(x[1:])), i)) for i in [line.rstrip().split(',') for line in open('input2019_3.txt', 'r').readlines()]]"
   ]
  },
  {
   "cell_type": "code",
   "execution_count": 3,
   "metadata": {},
   "outputs": [],
   "source": [
    "deltas = {'R': (1, 0), 'L': (-1, 0), 'U': (0, 1), 'D': (0, -1)}"
   ]
  },
  {
   "cell_type": "code",
   "execution_count": 4,
   "metadata": {},
   "outputs": [],
   "source": [
    "def travel(x, y, steps):\n",
    "    points = set()\n",
    "    for i, j in steps:\n",
    "        dx, dy = deltas[i]\n",
    "        for a in range(j):\n",
    "            x += dx\n",
    "            y += dy\n",
    "            points.add((x, y))\n",
    "    return points"
   ]
  },
  {
   "cell_type": "code",
   "execution_count": 5,
   "metadata": {},
   "outputs": [],
   "source": [
    "x, y = 0, 0\n",
    "s1 = travel(x, y, inp[0])\n",
    "s2 = travel(x, y, inp[1])"
   ]
  },
  {
   "cell_type": "code",
   "execution_count": 6,
   "metadata": {},
   "outputs": [
    {
     "name": "stdout",
     "output_type": "stream",
     "text": [
      "5319\n"
     ]
    }
   ],
   "source": [
    "common_points = (set(s1).intersection(set(s2)))\n",
    "distance_o = {i:distance.cityblock((0,0), i) for i in common_points}\n",
    "print(min(distance_o.values()))"
   ]
  },
  {
   "cell_type": "code",
   "execution_count": 7,
   "metadata": {},
   "outputs": [],
   "source": [
    "# Part b"
   ]
  },
  {
   "cell_type": "code",
   "execution_count": 8,
   "metadata": {},
   "outputs": [],
   "source": [
    "def travel_to(x, y, end, steps):\n",
    "    points = 0\n",
    "    for i, j in steps:\n",
    "        dx, dy = deltas[i]\n",
    "        for _ in range(j):\n",
    "            x += dx\n",
    "            y += dy\n",
    "            points += 1\n",
    "            if (x, y) == end:\n",
    "                return points"
   ]
  },
  {
   "cell_type": "code",
   "execution_count": 9,
   "metadata": {},
   "outputs": [],
   "source": [
    "x, y = 0, 0\n",
    "combined_steps = []\n",
    "for i in common_points:\n",
    "    steps1 = travel_to(x, y, i, inp[0])\n",
    "    steps2 = travel_to(x, y, i, inp[1])\n",
    "    combined_steps.append(steps1 + steps2)"
   ]
  },
  {
   "cell_type": "code",
   "execution_count": 10,
   "metadata": {},
   "outputs": [
    {
     "data": {
      "text/plain": [
       "122514"
      ]
     },
     "execution_count": 10,
     "metadata": {},
     "output_type": "execute_result"
    }
   ],
   "source": [
    "min(combined_steps)"
   ]
  },
  {
   "cell_type": "code",
   "execution_count": null,
   "metadata": {},
   "outputs": [],
   "source": []
  }
 ],
 "metadata": {
  "kernelspec": {
   "display_name": "Python 3 (ipykernel)",
   "language": "python",
   "name": "python3"
  },
  "language_info": {
   "codemirror_mode": {
    "name": "ipython",
    "version": 3
   },
   "file_extension": ".py",
   "mimetype": "text/x-python",
   "name": "python",
   "nbconvert_exporter": "python",
   "pygments_lexer": "ipython3",
   "version": "3.9.1"
  }
 },
 "nbformat": 4,
 "nbformat_minor": 4
}
