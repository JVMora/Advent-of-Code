{
 "cells": [
  {
   "cell_type": "code",
   "execution_count": 1,
   "metadata": {},
   "outputs": [],
   "source": [
    "def neighbors4(r, c, maze):\n",
    "    if r == 0 and c == 0:\n",
    "        return [(r, c+1), (r+1, c)]\n",
    "    elif r == 0 and c == len(maze[0])-1:\n",
    "        return [(r, c-1), (r+1, c)]\n",
    "    elif r == len(maze)-1 and c == 0:\n",
    "        return [(r, c+1), (r-1, c)]\n",
    "    elif r == len(maze)-1 and c == len(maze[0])-1:\n",
    "        return [(r, c-1), (r-1, c)]\n",
    "     \n",
    "    elif r == 0 and 0 < c < len(maze[0])-1:\n",
    "        return [(r, c+1), (r, c-1), (r+1, c)]\n",
    "    elif r == len(maze)-1 and 0 < c < len(maze[0])-1:\n",
    "        return [(r, c+1), (r, c-1), (r-1, c)]\n",
    "    elif 0 < r < len(maze)-1 and c == 0:\n",
    "        return [(r-1, c), (r+1, c), (r, c+1)]\n",
    "    elif 0 < r < len(maze)-1 and c == len(maze[0])-1:\n",
    "        return [(r-1, c), (r+1, c), (r, c-1)]\n",
    " \n",
    "    else:\n",
    "        return [(r, c-1), (r-1, c), (r, c+1), (r+1, c)]"
   ]
  },
  {
   "cell_type": "code",
   "execution_count": 2,
   "metadata": {},
   "outputs": [],
   "source": [
    "instructions = [line.rstrip() for line in open('input2016_2.txt', 'r').readlines()]"
   ]
  },
  {
   "cell_type": "code",
   "execution_count": 3,
   "metadata": {},
   "outputs": [],
   "source": [
    "a = [[1, 2, 3], [4, 5, 6], [7, 8, 9]]"
   ]
  },
  {
   "cell_type": "code",
   "execution_count": 4,
   "metadata": {},
   "outputs": [],
   "source": [
    "neighbors = {(i, j): neighbors4(i, j, a) for i in range(len(a)) for j in range(len(a[0]))}"
   ]
  },
  {
   "cell_type": "code",
   "execution_count": 5,
   "metadata": {},
   "outputs": [],
   "source": [
    "deltas = {'U': (-1, 0), 'D': (1, 0), 'R': (0, 1), 'L': (0, -1)}"
   ]
  },
  {
   "cell_type": "code",
   "execution_count": 6,
   "metadata": {},
   "outputs": [
    {
     "name": "stdout",
     "output_type": "stream",
     "text": [
      "95549"
     ]
    }
   ],
   "source": [
    "r, c = 1, 1\n",
    "for i in instructions:\n",
    "    for j in i:\n",
    "        dr, dc = deltas[j]\n",
    "        nextr = r + dr\n",
    "        nextc = c + dc\n",
    "        if (nextr, nextc) in neighbors[(r, c)]:\n",
    "            r = nextr\n",
    "            c = nextc\n",
    "        else:\n",
    "            pass\n",
    "    print(a[r][c], end = '')"
   ]
  },
  {
   "cell_type": "code",
   "execution_count": 7,
   "metadata": {},
   "outputs": [],
   "source": [
    "# Part b "
   ]
  },
  {
   "cell_type": "code",
   "execution_count": 8,
   "metadata": {},
   "outputs": [],
   "source": [
    "b = [[0, 0, 1, 0, 0], [0, 2, 3, 4, 0], [5, 6, 7, 8, 9], [0, 'A', 'B', 'C', 0], [0, 0, 'D', 0, 0]]"
   ]
  },
  {
   "cell_type": "code",
   "execution_count": 9,
   "metadata": {},
   "outputs": [],
   "source": [
    "neighbors = {(i, j): neighbors4(i, j, b) for i in range(len(b)) for j in range(len(b[0]))}"
   ]
  },
  {
   "cell_type": "code",
   "execution_count": 10,
   "metadata": {},
   "outputs": [
    {
     "name": "stdout",
     "output_type": "stream",
     "text": [
      "D87AD"
     ]
    }
   ],
   "source": [
    "r, c = 2, 0\n",
    "for i in instructions:\n",
    "    for j in i:\n",
    "        dr, dc = deltas[j]\n",
    "        nextr = r + dr\n",
    "        nextc = c + dc\n",
    "        if (nextr, nextc) in neighbors[(r, c)] and b[nextr][nextc] != 0:\n",
    "            r = nextr\n",
    "            c = nextc\n",
    "        else:\n",
    "            pass\n",
    "    print(b[r][c], end = '')"
   ]
  },
  {
   "cell_type": "code",
   "execution_count": null,
   "metadata": {},
   "outputs": [],
   "source": []
  }
 ],
 "metadata": {
  "kernelspec": {
   "display_name": "Python 3 (ipykernel)",
   "language": "python",
   "name": "python3"
  },
  "language_info": {
   "codemirror_mode": {
    "name": "ipython",
    "version": 3
   },
   "file_extension": ".py",
   "mimetype": "text/x-python",
   "name": "python",
   "nbconvert_exporter": "python",
   "pygments_lexer": "ipython3",
   "version": "3.9.1"
  }
 },
 "nbformat": 4,
 "nbformat_minor": 4
}
