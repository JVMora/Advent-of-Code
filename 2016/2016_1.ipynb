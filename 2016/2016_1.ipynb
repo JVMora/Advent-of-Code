{
 "cells": [
  {
   "cell_type": "code",
   "execution_count": 1,
   "metadata": {},
   "outputs": [],
   "source": [
    "instructions = list(map(lambda x: (x[0], int(x[1:])), [line.rstrip().split(', ') for line in open('input2016_1.txt', 'r').readlines()][0]))"
   ]
  },
  {
   "cell_type": "code",
   "execution_count": 2,
   "metadata": {},
   "outputs": [],
   "source": [
    "D = {'north': {'R': [1, 0, 'east'], 'L': [-1, 0, 'west']},\n",
    "     'east': {'R': [0, -1, 'south'], 'L': [0, 1, 'north']},\n",
    "     'west': {'R': [0, 1, 'north'], 'L': [0, -1, 'south']},\n",
    "     'south': {'R': [-1, 0, 'west'], 'L': [1, 0, 'east']}}"
   ]
  },
  {
   "cell_type": "code",
   "execution_count": 3,
   "metadata": {},
   "outputs": [],
   "source": [
    "Facing = 'north'\n",
    "x, y = 0, 0\n",
    "for i, j in instructions:\n",
    "    dx, dy, facing = D[Facing][i]\n",
    "    Facing = facing\n",
    "    for a in range(j):\n",
    "        x += dx\n",
    "        y += dy"
   ]
  },
  {
   "cell_type": "code",
   "execution_count": 4,
   "metadata": {},
   "outputs": [
    {
     "data": {
      "text/plain": [
       "353"
      ]
     },
     "execution_count": 4,
     "metadata": {},
     "output_type": "execute_result"
    }
   ],
   "source": [
    "x + y"
   ]
  },
  {
   "cell_type": "code",
   "execution_count": 5,
   "metadata": {},
   "outputs": [],
   "source": [
    "# Part b"
   ]
  },
  {
   "cell_type": "code",
   "execution_count": 6,
   "metadata": {},
   "outputs": [],
   "source": [
    "Facing = 'north'\n",
    "x, y = 0, 0\n",
    "positions = []\n",
    "Flag = False\n",
    "for i, j in instructions:\n",
    "    dx, dy, facing = D[Facing][i]\n",
    "    Facing = facing\n",
    "    for a in range(j):\n",
    "        x += dx\n",
    "        y += dy\n",
    "        if (x, y) in positions:\n",
    "            Flag = True\n",
    "            break\n",
    "        else:\n",
    "            positions.append((x, y))\n",
    "    if Flag == True: break"
   ]
  },
  {
   "cell_type": "code",
   "execution_count": 7,
   "metadata": {},
   "outputs": [
    {
     "data": {
      "text/plain": [
       "152"
      ]
     },
     "execution_count": 7,
     "metadata": {},
     "output_type": "execute_result"
    }
   ],
   "source": [
    "x + y"
   ]
  },
  {
   "cell_type": "code",
   "execution_count": null,
   "metadata": {},
   "outputs": [],
   "source": []
  }
 ],
 "metadata": {
  "kernelspec": {
   "display_name": "Python 3 (ipykernel)",
   "language": "python",
   "name": "python3"
  },
  "language_info": {
   "codemirror_mode": {
    "name": "ipython",
    "version": 3
   },
   "file_extension": ".py",
   "mimetype": "text/x-python",
   "name": "python",
   "nbconvert_exporter": "python",
   "pygments_lexer": "ipython3",
   "version": "3.9.1"
  }
 },
 "nbformat": 4,
 "nbformat_minor": 4
}
