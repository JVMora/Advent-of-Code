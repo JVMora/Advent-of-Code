{
 "cells": [
  {
   "cell_type": "code",
   "execution_count": 1,
   "metadata": {},
   "outputs": [],
   "source": [
    "from collections import Counter\n",
    "from operator import sub, mul, itemgetter\n",
    "from functools import reduce\n",
    "from scipy.special import comb\n",
    "from itertools import groupby\n",
    "from more_itertools import ilen, consecutive_groups"
   ]
  },
  {
   "cell_type": "code",
   "execution_count": 2,
   "metadata": {},
   "outputs": [],
   "source": [
    "data = [int(n.rstrip('\\n')) for n in open('input2020_10.txt', 'r').readlines()]"
   ]
  },
  {
   "cell_type": "code",
   "execution_count": 3,
   "metadata": {},
   "outputs": [],
   "source": [
    "data = sorted(data)\n",
    "data.append(data[-1]+3)\n",
    "data.insert(0,0)"
   ]
  },
  {
   "cell_type": "code",
   "execution_count": 4,
   "metadata": {},
   "outputs": [
    {
     "data": {
      "text/plain": [
       "2450"
      ]
     },
     "execution_count": 4,
     "metadata": {},
     "output_type": "execute_result"
    }
   ],
   "source": [
    "reduce(mul, Counter(map(sub, data[1:], data)).values())"
   ]
  },
  {
   "cell_type": "code",
   "execution_count": 5,
   "metadata": {},
   "outputs": [],
   "source": [
    "# Part 2"
   ]
  },
  {
   "cell_type": "code",
   "execution_count": 6,
   "metadata": {},
   "outputs": [],
   "source": [
    "def combinations(l):\n",
    "    return comb(l-2, 2) + comb(l-2, 1) + comb(l-2, 0)\n",
    "\n",
    "def consecutives(l):\n",
    "    return list(filter(lambda x: x >= 3, [len(list((map(itemgetter(1), g)))) for k, g in groupby(enumerate(l), lambda x: x[0]-x[1])]))\n",
    "\n",
    "def consecutives_b(l):\n",
    "    return list(filter(lambda x: x >= 3, (ilen(i) for i in consecutive_groups(l))))"
   ]
  },
  {
   "cell_type": "code",
   "execution_count": 7,
   "metadata": {},
   "outputs": [
    {
     "data": {
      "text/plain": [
       "32396521357312.0"
      ]
     },
     "execution_count": 7,
     "metadata": {},
     "output_type": "execute_result"
    }
   ],
   "source": [
    "reduce(mul, (map(combinations, consecutives_b(data))))"
   ]
  },
  {
   "cell_type": "code",
   "execution_count": null,
   "metadata": {},
   "outputs": [],
   "source": []
  }
 ],
 "metadata": {
  "kernelspec": {
   "display_name": "Python 3 (ipykernel)",
   "language": "python",
   "name": "python3"
  },
  "language_info": {
   "codemirror_mode": {
    "name": "ipython",
    "version": 3
   },
   "file_extension": ".py",
   "mimetype": "text/x-python",
   "name": "python",
   "nbconvert_exporter": "python",
   "pygments_lexer": "ipython3",
   "version": "3.9.1"
  }
 },
 "nbformat": 4,
 "nbformat_minor": 4
}
