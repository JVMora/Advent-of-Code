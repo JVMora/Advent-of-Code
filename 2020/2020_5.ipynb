{
 "cells": [
  {
   "cell_type": "code",
   "execution_count": 1,
   "metadata": {},
   "outputs": [],
   "source": [
    "from more_itertools import peekable\n",
    "from toolz import sliding_window"
   ]
  },
  {
   "cell_type": "code",
   "execution_count": 2,
   "metadata": {},
   "outputs": [],
   "source": [
    "data = [line.rstrip('\\n') for line in open('input2020_5.txt', 'r').readlines()]"
   ]
  },
  {
   "cell_type": "code",
   "execution_count": 3,
   "metadata": {},
   "outputs": [],
   "source": [
    "def seatID(ref, rlo = 0, rhi = 127, clo = 0, chi = 7):\n",
    "    row = peekable(ref[:-3])\n",
    "    column = peekable(ref[-3:])\n",
    "    while row:\n",
    "        mid = (rlo + rhi) // 2\n",
    "        if next(row) == 'B': rlo = mid + 1\n",
    "        else: rhi = mid\n",
    "    while column:\n",
    "        mid = (clo + chi) // 2\n",
    "        if next(column) == 'R': clo = mid + 1\n",
    "        else: chi = mid\n",
    "    return (rlo * 8) + clo"
   ]
  },
  {
   "cell_type": "code",
   "execution_count": 4,
   "metadata": {},
   "outputs": [
    {
     "data": {
      "text/plain": [
       "822"
      ]
     },
     "execution_count": 4,
     "metadata": {},
     "output_type": "execute_result"
    }
   ],
   "source": [
    "passes = [seatID(i) for i in data]\n",
    "max(passes)"
   ]
  },
  {
   "cell_type": "code",
   "execution_count": 5,
   "metadata": {},
   "outputs": [],
   "source": [
    "# Part b"
   ]
  },
  {
   "cell_type": "code",
   "execution_count": 6,
   "metadata": {},
   "outputs": [
    {
     "data": {
      "text/plain": [
       "[705]"
      ]
     },
     "execution_count": 6,
     "metadata": {},
     "output_type": "execute_result"
    }
   ],
   "source": [
    "[a +1 for a, b in sliding_window(2, sorted(passes)) if b-a == 2]"
   ]
  },
  {
   "cell_type": "code",
   "execution_count": null,
   "metadata": {},
   "outputs": [],
   "source": []
  }
 ],
 "metadata": {
  "kernelspec": {
   "display_name": "Python 3 (ipykernel)",
   "language": "python",
   "name": "python3"
  },
  "language_info": {
   "codemirror_mode": {
    "name": "ipython",
    "version": 3
   },
   "file_extension": ".py",
   "mimetype": "text/x-python",
   "name": "python",
   "nbconvert_exporter": "python",
   "pygments_lexer": "ipython3",
   "version": "3.9.1"
  }
 },
 "nbformat": 4,
 "nbformat_minor": 4
}
