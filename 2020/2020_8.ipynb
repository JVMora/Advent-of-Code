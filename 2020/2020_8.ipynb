{
 "cells": [
  {
   "cell_type": "code",
   "execution_count": 1,
   "metadata": {},
   "outputs": [],
   "source": [
    "import copy"
   ]
  },
  {
   "cell_type": "code",
   "execution_count": 2,
   "metadata": {},
   "outputs": [],
   "source": [
    "instructions = [line.rstrip('\\n').split(' ') for line in open('input2020_8.txt', 'r').readlines()]"
   ]
  },
  {
   "cell_type": "code",
   "execution_count": 3,
   "metadata": {},
   "outputs": [],
   "source": [
    "def part1(instructions):\n",
    "    reg = 0\n",
    "    i = 0\n",
    "    visited = [0]\n",
    "    while True:\n",
    "        ins, val = instructions[i]\n",
    "        if ins == 'acc':\n",
    "            reg += int(val)\n",
    "            i += 1\n",
    "        elif ins == 'jmp':\n",
    "            i += int(val)\n",
    "        else: \n",
    "            i += 1\n",
    "            pass\n",
    "        if i in visited: \n",
    "            break\n",
    "        else: visited.append(i)\n",
    "    return reg"
   ]
  },
  {
   "cell_type": "code",
   "execution_count": 4,
   "metadata": {},
   "outputs": [
    {
     "data": {
      "text/plain": [
       "1928"
      ]
     },
     "execution_count": 4,
     "metadata": {},
     "output_type": "execute_result"
    }
   ],
   "source": [
    "part1(instructions)"
   ]
  },
  {
   "cell_type": "code",
   "execution_count": 5,
   "metadata": {},
   "outputs": [],
   "source": [
    "# Part b"
   ]
  },
  {
   "cell_type": "code",
   "execution_count": 6,
   "metadata": {},
   "outputs": [],
   "source": [
    "def part2(instructions):\n",
    "    for j, instruction in enumerate(instructions):\n",
    "        icopy = copy.deepcopy(instructions)\n",
    "        if instructions[j][0] == 'acc':\n",
    "            continue\n",
    "        else:\n",
    "            if instructions[j][0] == 'jmp':\n",
    "                icopy[j][0] = 'nop'\n",
    "            else:\n",
    "                icopy[j][0] = 'jmp'\n",
    "        reg = 0\n",
    "        i = 0\n",
    "        visited = [0]\n",
    "        flag = True\n",
    "        while i != len(instructions):\n",
    "            ins, val = icopy[i]\n",
    "            if ins == 'acc':\n",
    "                reg += int(val)\n",
    "                i += 1\n",
    "            elif ins == 'jmp':\n",
    "                i += int(val)\n",
    "            else: \n",
    "                i += 1\n",
    "                \n",
    "            if i in visited: \n",
    "                flag = False\n",
    "                break\n",
    "            else: visited.append(i)   \n",
    "        if flag == True:\n",
    "            return reg"
   ]
  },
  {
   "cell_type": "code",
   "execution_count": 7,
   "metadata": {},
   "outputs": [
    {
     "data": {
      "text/plain": [
       "1319"
      ]
     },
     "execution_count": 7,
     "metadata": {},
     "output_type": "execute_result"
    }
   ],
   "source": [
    "part2(instructions)"
   ]
  },
  {
   "cell_type": "code",
   "execution_count": null,
   "metadata": {},
   "outputs": [],
   "source": []
  }
 ],
 "metadata": {
  "kernelspec": {
   "display_name": "Python 3 (ipykernel)",
   "language": "python",
   "name": "python3"
  },
  "language_info": {
   "codemirror_mode": {
    "name": "ipython",
    "version": 3
   },
   "file_extension": ".py",
   "mimetype": "text/x-python",
   "name": "python",
   "nbconvert_exporter": "python",
   "pygments_lexer": "ipython3",
   "version": "3.9.1"
  }
 },
 "nbformat": 4,
 "nbformat_minor": 4
}
