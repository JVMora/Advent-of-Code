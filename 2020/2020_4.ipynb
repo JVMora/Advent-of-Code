{
 "cells": [
  {
   "cell_type": "code",
   "execution_count": 1,
   "metadata": {},
   "outputs": [],
   "source": [
    "from collections import defaultdict"
   ]
  },
  {
   "cell_type": "code",
   "execution_count": 2,
   "metadata": {},
   "outputs": [],
   "source": [
    "data = [line.rstrip('\\n').split(' ') for line in open('input2020_4.txt', 'r').readlines()]"
   ]
  },
  {
   "cell_type": "code",
   "execution_count": 3,
   "metadata": {},
   "outputs": [],
   "source": [
    "passports = defaultdict(dict)"
   ]
  },
  {
   "cell_type": "code",
   "execution_count": 4,
   "metadata": {},
   "outputs": [],
   "source": [
    "index = 0\n",
    "for i in data:\n",
    "    if i == ['']:\n",
    "        index += 1\n",
    "    else:\n",
    "        for j in i:\n",
    "            key, value = j.split(':')\n",
    "            passports[index][key] = value"
   ]
  },
  {
   "cell_type": "code",
   "execution_count": 5,
   "metadata": {},
   "outputs": [],
   "source": [
    "valid = 0\n",
    "for i in range(len(passports)):\n",
    "    fields = passports[i].keys()\n",
    "    if ('cid' not in fields and 7 == len(fields)) or (len(fields) == 8):\n",
    "        valid += 1"
   ]
  },
  {
   "cell_type": "code",
   "execution_count": 6,
   "metadata": {},
   "outputs": [
    {
     "data": {
      "text/plain": [
       "242"
      ]
     },
     "execution_count": 6,
     "metadata": {},
     "output_type": "execute_result"
    }
   ],
   "source": [
    "valid"
   ]
  },
  {
   "cell_type": "code",
   "execution_count": 7,
   "metadata": {},
   "outputs": [],
   "source": [
    "# Part b "
   ]
  },
  {
   "cell_type": "code",
   "execution_count": 8,
   "metadata": {},
   "outputs": [],
   "source": [
    "def birth(year):\n",
    "    return True if 1920 <= int(year) <= 2002 else False\n",
    "def issue(year):\n",
    "    return True if 2010 <= int(year) <= 2020 else False\n",
    "def expiration(year):\n",
    "    return True if 2020 <= int(year) <= 2030 else False\n",
    "def height(m):\n",
    "    return True if (m[-2:] == 'cm' and 150 <= int(m[:-2]) <= 193) or (m[-2:] == 'in' and 59 <= int(m[:-2]) <= 76) else False\n",
    "def hair(color):\n",
    "    return True if color[0] == '#' and len(color[1:]) == 6 and set(list(color[1:])).issubset(set(['0','1','2','3','4','5','6','7','8','9','a','b','c','d','e','f'])) else False\n",
    "def eye(color):\n",
    "    return True if color in ['amb', 'blu', 'brn', 'gry', 'grn', 'hzl', 'oth'] else False\n",
    "def passport(ID):\n",
    "    return True if len(list(ID)) == 9 else False\n",
    "def country():\n",
    "    return True"
   ]
  },
  {
   "cell_type": "code",
   "execution_count": 9,
   "metadata": {},
   "outputs": [],
   "source": [
    "valid = 0\n",
    "for i in range(len(passports)):\n",
    "    fields = passports[i].keys()\n",
    "    if ('cid' not in fields and 7 == len(fields)) or (len(fields) == 8):\n",
    "        if all((eye(passports[i]['ecl']), birth(passports[i]['byr']), issue(passports[i]['iyr']), expiration(passports[i]['eyr']), height(passports[i]['hgt']), hair(passports[i]['hcl']), passport(passports[i]['pid']))): \n",
    "            valid += 1"
   ]
  },
  {
   "cell_type": "code",
   "execution_count": 10,
   "metadata": {},
   "outputs": [
    {
     "data": {
      "text/plain": [
       "186"
      ]
     },
     "execution_count": 10,
     "metadata": {},
     "output_type": "execute_result"
    }
   ],
   "source": [
    "valid"
   ]
  },
  {
   "cell_type": "code",
   "execution_count": null,
   "metadata": {},
   "outputs": [],
   "source": []
  }
 ],
 "metadata": {
  "kernelspec": {
   "display_name": "Python 3 (ipykernel)",
   "language": "python",
   "name": "python3"
  },
  "language_info": {
   "codemirror_mode": {
    "name": "ipython",
    "version": 3
   },
   "file_extension": ".py",
   "mimetype": "text/x-python",
   "name": "python",
   "nbconvert_exporter": "python",
   "pygments_lexer": "ipython3",
   "version": "3.9.1"
  }
 },
 "nbformat": 4,
 "nbformat_minor": 4
}
