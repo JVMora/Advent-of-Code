{
 "cells": [
  {
   "cell_type": "code",
   "execution_count": 1,
   "metadata": {},
   "outputs": [],
   "source": [
    "import networkx as nx\n",
    "from collections import defaultdict\n",
    "from functools import reduce\n",
    "from operator import mul\n",
    "from itertools import chain \n",
    "from toolz import unique, sliding_window"
   ]
  },
  {
   "cell_type": "code",
   "execution_count": 2,
   "metadata": {},
   "outputs": [],
   "source": [
    "data = [line.rstrip('\\n').split('contain') for line in open('input2020_7.txt', 'r').readlines()]"
   ]
  },
  {
   "cell_type": "code",
   "execution_count": 3,
   "metadata": {},
   "outputs": [],
   "source": [
    "bags = defaultdict(list)\n",
    "for outside, inside in data:\n",
    "    key = outside.split('bags')[0].rstrip(' ')\n",
    "    for bag in inside.split(','):\n",
    "        if 'no' in bag.split(' '): \n",
    "            continue\n",
    "        else:\n",
    "            value = bag.split(' ')\n",
    "            bags[key].append((int(value[1]), ' '.join((value[2], value[3]))))"
   ]
  },
  {
   "cell_type": "code",
   "execution_count": 4,
   "metadata": {},
   "outputs": [],
   "source": [
    "edges= list(chain.from_iterable(list(map(lambda x: (k, x[1], x[0]), v)) for k, v in bags.items()))\n",
    "nodes = list(unique(chain.from_iterable(chain.from_iterable([list(map(lambda x: (k, x[1]), v)) for k, v in bags.items()]))))"
   ]
  },
  {
   "cell_type": "code",
   "execution_count": 5,
   "metadata": {},
   "outputs": [],
   "source": [
    "G = nx.DiGraph()\n",
    "G.add_nodes_from(nodes)\n",
    "G.add_weighted_edges_from(edges)"
   ]
  },
  {
   "cell_type": "code",
   "execution_count": 6,
   "metadata": {},
   "outputs": [
    {
     "data": {
      "text/plain": [
       "261"
      ]
     },
     "execution_count": 6,
     "metadata": {},
     "output_type": "execute_result"
    }
   ],
   "source": [
    "len(nx.ancestors(G, 'shiny gold'))"
   ]
  },
  {
   "cell_type": "code",
   "execution_count": 7,
   "metadata": {},
   "outputs": [],
   "source": [
    "# Part 2"
   ]
  },
  {
   "cell_type": "code",
   "execution_count": 8,
   "metadata": {},
   "outputs": [
    {
     "data": {
      "text/plain": [
       "3765"
      ]
     },
     "execution_count": 8,
     "metadata": {},
     "output_type": "execute_result"
    }
   ],
   "source": [
    "total_bags = 0\n",
    "for i in nx.descendants(G, 'shiny gold'):\n",
    "    for path in nx.all_simple_paths(G, 'shiny gold', i):\n",
    "        path_bags = [G[a][b]['weight'] for a, b in sliding_window(2, path)]\n",
    "        total_bags += reduce(mul, path_bags)\n",
    "\n",
    "total_bags"
   ]
  },
  {
   "cell_type": "code",
   "execution_count": null,
   "metadata": {},
   "outputs": [],
   "source": []
  }
 ],
 "metadata": {
  "kernelspec": {
   "display_name": "Python 3 (ipykernel)",
   "language": "python",
   "name": "python3"
  },
  "language_info": {
   "codemirror_mode": {
    "name": "ipython",
    "version": 3
   },
   "file_extension": ".py",
   "mimetype": "text/x-python",
   "name": "python",
   "nbconvert_exporter": "python",
   "pygments_lexer": "ipython3",
   "version": "3.9.1"
  }
 },
 "nbformat": 4,
 "nbformat_minor": 4
}
