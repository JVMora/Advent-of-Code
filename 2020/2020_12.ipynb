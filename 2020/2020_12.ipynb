{
 "cells": [
  {
   "cell_type": "code",
   "execution_count": 1,
   "metadata": {},
   "outputs": [],
   "source": [
    "from collections import deque\n",
    "import math"
   ]
  },
  {
   "cell_type": "code",
   "execution_count": 2,
   "metadata": {},
   "outputs": [],
   "source": [
    "data = [line.rstrip('\\n') for line in open('input2020_12.txt', 'r').readlines()]"
   ]
  },
  {
   "cell_type": "code",
   "execution_count": 3,
   "metadata": {},
   "outputs": [],
   "source": [
    "def turning(action, val, facing):\n",
    "    directions = deque(('E','S','W','N'))\n",
    "    n = directions.index(facing)\n",
    "    directions.rotate(-n)\n",
    "    if action == 'R': directions.rotate(-val // 90)\n",
    "    else: directions.rotate(val // 90)\n",
    "    return directions[0]"
   ]
  },
  {
   "cell_type": "code",
   "execution_count": 4,
   "metadata": {},
   "outputs": [],
   "source": [
    "def move(x, y, facing, action, val):\n",
    "    if action == 'E': x += val\n",
    "    elif action == 'W': x -= val\n",
    "    elif action == 'N': y += val\n",
    "    elif action == 'S': y -= val\n",
    "    else: \n",
    "        if facing == 'E' and action == 'F': x += val\n",
    "        elif facing == 'W' and action == 'F': x -= val\n",
    "        elif facing == 'S' and action == 'F': y -= val\n",
    "        elif facing == 'N' and action == 'F': y += val\n",
    "        else: \n",
    "            facing = turning(action, val, facing)\n",
    "    return x, y, facing"
   ]
  },
  {
   "cell_type": "code",
   "execution_count": 5,
   "metadata": {},
   "outputs": [],
   "source": [
    "def part1 (x = 0, y = 0, facing = 'E'):\n",
    "    for i in data:\n",
    "        action, val = i[0], int(i[1:])\n",
    "        x, y, facing = move(x, y, facing, action, val)\n",
    "    return abs(x) + abs(y)"
   ]
  },
  {
   "cell_type": "code",
   "execution_count": 6,
   "metadata": {},
   "outputs": [
    {
     "data": {
      "text/plain": [
       "420"
      ]
     },
     "execution_count": 6,
     "metadata": {},
     "output_type": "execute_result"
    }
   ],
   "source": [
    "part1()"
   ]
  },
  {
   "cell_type": "code",
   "execution_count": 7,
   "metadata": {},
   "outputs": [],
   "source": [
    "# Part b"
   ]
  },
  {
   "cell_type": "code",
   "execution_count": 8,
   "metadata": {},
   "outputs": [],
   "source": [
    "def rotate(action, val, waypoint):\n",
    "    x, y = waypoint['x'], waypoint['y']\n",
    "    if action == 'L': degrees = val\n",
    "    else: degrees = -val\n",
    "    xx = round(math.cos(math.radians(degrees))*x - math.sin(math.radians(degrees))*y)\n",
    "    yy = round(math.sin(math.radians(degrees))*x + math.cos(math.radians(degrees))*y)   \n",
    "    return xx, yy"
   ]
  },
  {
   "cell_type": "code",
   "execution_count": 9,
   "metadata": {},
   "outputs": [],
   "source": [
    "def move2(waypoint, boat, action, val):\n",
    "    if action == 'E': waypoint['x'] += val\n",
    "    elif action == 'W': waypoint['x'] -= val\n",
    "    elif action == 'N': waypoint['y'] += val\n",
    "    elif action == 'S': waypoint['y'] -= val\n",
    "    elif action == 'F':\n",
    "        boat['x'] += waypoint['x'] * val\n",
    "        boat['y'] += waypoint['y'] * val\n",
    "    else:\n",
    "        waypoint['x'], waypoint['y'] = rotate(action, val, waypoint)\n",
    "    return waypoint, boat"
   ]
  },
  {
   "cell_type": "code",
   "execution_count": 10,
   "metadata": {},
   "outputs": [],
   "source": [
    "def part2(x, y):\n",
    "    waypoint = {'x' : x, 'y' : y}\n",
    "    boat = {'x' : 0, 'y' : 0}\n",
    "    for i in data:\n",
    "        action, val = i[0], int(i[1:])\n",
    "        waypoint, boat = move2(waypoint, boat, action, val)\n",
    "    return sum(map(abs, boat.values()))"
   ]
  },
  {
   "cell_type": "code",
   "execution_count": 11,
   "metadata": {},
   "outputs": [
    {
     "data": {
      "text/plain": [
       "42073"
      ]
     },
     "execution_count": 11,
     "metadata": {},
     "output_type": "execute_result"
    }
   ],
   "source": [
    "part2(10,1)"
   ]
  },
  {
   "cell_type": "code",
   "execution_count": null,
   "metadata": {},
   "outputs": [],
   "source": []
  }
 ],
 "metadata": {
  "kernelspec": {
   "display_name": "Python 3 (ipykernel)",
   "language": "python",
   "name": "python3"
  },
  "language_info": {
   "codemirror_mode": {
    "name": "ipython",
    "version": 3
   },
   "file_extension": ".py",
   "mimetype": "text/x-python",
   "name": "python",
   "nbconvert_exporter": "python",
   "pygments_lexer": "ipython3",
   "version": "3.9.1"
  }
 },
 "nbformat": 4,
 "nbformat_minor": 4
}
