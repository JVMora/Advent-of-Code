{
 "cells": [
  {
   "cell_type": "code",
   "execution_count": 1,
   "metadata": {},
   "outputs": [],
   "source": [
    "from itertools import combinations"
   ]
  },
  {
   "cell_type": "code",
   "execution_count": 2,
   "metadata": {},
   "outputs": [],
   "source": [
    "Weapons = {'Dagger': {'Cost':8, 'Damage':4, 'Armor':0},\n",
    "          'Shortsword': {'Cost':10, 'Damage':5, 'Armor':0},\n",
    "          'Warhammer': {'Cost':25, 'Damage':6, 'Armor':0},\n",
    "          'Longsword': {'Cost':40, 'Damage':7, 'Armor':0},\n",
    "          'Greataxe': {'Cost':74, 'Damage':8, 'Armor':0}}\n",
    "\n",
    "Armors = {'Leather': {'Cost':13, 'Damage':0, 'Armor':1},\n",
    "          'Chainmail': {'Cost':31, 'Damage':0, 'Armor':2},\n",
    "          'Splintmail': {'Cost':53, 'Damage':0, 'Armor':3},\n",
    "          'Bandedmail': {'Cost':75, 'Damage':0, 'Armor':4},\n",
    "          'Platemail': {'Cost':102, 'Damage':0, 'Armor':5},\n",
    "          'No_armor': {'Cost':0, 'Damage':0,  'Armor':0}}\n",
    "\n",
    "Rings = {'Damage_1': {'Cost':25, 'Damage':1, 'Armor':0},\n",
    "         'Damage_2': {'Cost':50, 'Damage':2, 'Armor':0},\n",
    "         'Damage_3': {'Cost':100, 'Damage':3, 'Armor':0},\n",
    "         'Defense_1': {'Cost':20, 'Damage':0, 'Armor':1},\n",
    "         'Defense_2': {'Cost':40, 'Damage':0, 'Armor':2},\n",
    "         'Defense_3': {'Cost':80, 'Damage':0, 'Armor':3},\n",
    "         'No_ring': {'Cost':0,  'Damage':0, 'Armor':0}}"
   ]
  },
  {
   "cell_type": "code",
   "execution_count": 3,
   "metadata": {},
   "outputs": [],
   "source": [
    "Weapons_choices = list(Weapons.keys())\n",
    "Armors_choices = list(Armors.keys())\n",
    "Ring_choices = list(Rings.keys())"
   ]
  },
  {
   "cell_type": "code",
   "execution_count": 4,
   "metadata": {},
   "outputs": [],
   "source": [
    "for i in combinations(list(Rings.keys())[:-1], 2):\n",
    "    Ring_choices.append(i)"
   ]
  },
  {
   "cell_type": "code",
   "execution_count": 5,
   "metadata": {},
   "outputs": [],
   "source": [
    "def fight(hit_points_you, damage_you, armor_you, hit_points_boss, damage_boss, armor_boss):\n",
    "\n",
    "    damage_to_boss = damage_you - armor_boss\n",
    "    damage_to_you = damage_boss - armor_you\n",
    "    turn = 0\n",
    "    while True:\n",
    "        if turn % 2 == 0:\n",
    "            hit_points_boss -= max(1, damage_to_boss)\n",
    "            turn += 1\n",
    "            if hit_points_boss <= 0:\n",
    "                return True\n",
    "        else:\n",
    "            hit_points_you -= max(1, damage_to_you)\n",
    "            turn += 1\n",
    "            if hit_points_you <= 0:\n",
    "                return False"
   ]
  },
  {
   "cell_type": "code",
   "execution_count": 6,
   "metadata": {},
   "outputs": [],
   "source": [
    "cost_winning = []\n",
    "cost_loosing = []\n",
    "for i in Weapons_choices:\n",
    "    for j in Armors_choices:\n",
    "        for k in Ring_choices:\n",
    "            damage_you = Weapons[i]['Damage']\n",
    "            armor_you = Armors[j]['Armor']\n",
    "            cost = Weapons[i]['Cost'] + Armors[j]['Cost']\n",
    "            if type(k) == str:\n",
    "                damage_you += Rings[k]['Damage']\n",
    "                armor_you += Rings[k]['Armor']\n",
    "                cost += Rings[k]['Cost']\n",
    "            else:\n",
    "                for l in k:\n",
    "                    damage_you += Rings[l]['Damage']\n",
    "                    armor_you += Rings[l]['Armor']\n",
    "                    cost += Rings[l]['Cost']\n",
    "            if fight(100, damage_you, armor_you, 100, 8, 2):\n",
    "                cost_winning.append(cost)\n",
    "            else:\n",
    "                cost_loosing.append(cost)"
   ]
  },
  {
   "cell_type": "code",
   "execution_count": 7,
   "metadata": {},
   "outputs": [
    {
     "data": {
      "text/plain": [
       "91"
      ]
     },
     "execution_count": 7,
     "metadata": {},
     "output_type": "execute_result"
    }
   ],
   "source": [
    "min(cost_winning)"
   ]
  },
  {
   "cell_type": "code",
   "execution_count": 8,
   "metadata": {},
   "outputs": [],
   "source": [
    "# Part b"
   ]
  },
  {
   "cell_type": "code",
   "execution_count": 9,
   "metadata": {},
   "outputs": [
    {
     "data": {
      "text/plain": [
       "158"
      ]
     },
     "execution_count": 9,
     "metadata": {},
     "output_type": "execute_result"
    }
   ],
   "source": [
    "max(cost_loosing)"
   ]
  },
  {
   "cell_type": "code",
   "execution_count": null,
   "metadata": {},
   "outputs": [],
   "source": []
  }
 ],
 "metadata": {
  "kernelspec": {
   "display_name": "Python 3 (ipykernel)",
   "language": "python",
   "name": "python3"
  },
  "language_info": {
   "codemirror_mode": {
    "name": "ipython",
    "version": 3
   },
   "file_extension": ".py",
   "mimetype": "text/x-python",
   "name": "python",
   "nbconvert_exporter": "python",
   "pygments_lexer": "ipython3",
   "version": "3.9.1"
  }
 },
 "nbformat": 4,
 "nbformat_minor": 4
}
