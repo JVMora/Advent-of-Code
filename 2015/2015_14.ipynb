{
 "cells": [
  {
   "cell_type": "code",
   "execution_count": 1,
   "metadata": {},
   "outputs": [],
   "source": [
    "import re"
   ]
  },
  {
   "cell_type": "code",
   "execution_count": 2,
   "metadata": {},
   "outputs": [],
   "source": [
    "instructions = [line.rstrip() for line in open('input2015_14.txt', 'r').readlines()]"
   ]
  },
  {
   "cell_type": "code",
   "execution_count": 3,
   "metadata": {},
   "outputs": [],
   "source": [
    "instructions = {i[0:5]: tuple(map(int, re.findall(r'\\d+', i))) for i in instructions}"
   ]
  },
  {
   "cell_type": "code",
   "execution_count": 4,
   "metadata": {},
   "outputs": [],
   "source": [
    "def travelled(speed, time, rest, trip_duration):\n",
    "    distance = 0\n",
    "    s = 0\n",
    "    while s <= trip_duration:\n",
    "        s += time\n",
    "        distance += speed * time\n",
    "        if s <= trip_duration:\n",
    "            s += rest\n",
    "    return distance"
   ]
  },
  {
   "cell_type": "code",
   "execution_count": 5,
   "metadata": {},
   "outputs": [
    {
     "data": {
      "text/plain": [
       "2660"
      ]
     },
     "execution_count": 5,
     "metadata": {},
     "output_type": "execute_result"
    }
   ],
   "source": [
    "duration = 2503\n",
    "distances = [travelled(*instructions[i], duration) for i in instructions]\n",
    "max(distances)"
   ]
  },
  {
   "cell_type": "code",
   "execution_count": 6,
   "metadata": {},
   "outputs": [],
   "source": [
    "# Part b"
   ]
  },
  {
   "cell_type": "code",
   "execution_count": 7,
   "metadata": {},
   "outputs": [],
   "source": [
    "def travelled_per_second(speed, time, rest, trip_duration):\n",
    "    c = 0\n",
    "    while True:\n",
    "        if trip_duration <= time:\n",
    "            c += trip_duration\n",
    "            break\n",
    "        else:\n",
    "            trip_duration -= time\n",
    "            c += time\n",
    "            trip_duration -= rest\n",
    "            if trip_duration <= 0:\n",
    "                break\n",
    "    return c * speed"
   ]
  },
  {
   "cell_type": "code",
   "execution_count": 8,
   "metadata": {},
   "outputs": [],
   "source": [
    "result = dict.fromkeys(instructions.keys(), 0)\n",
    "for i in range(1, duration + 1):\n",
    "    d = dict.fromkeys(instructions.keys(), 0)\n",
    "    for k, v in instructions.items():\n",
    "        d[k] = travelled_per_second(*v, i)\n",
    "\n",
    "    max_distance = max(d.values())\n",
    "    for key, value in d.items():\n",
    "        if value == max_distance:\n",
    "            result[key] += 1"
   ]
  },
  {
   "cell_type": "code",
   "execution_count": 9,
   "metadata": {},
   "outputs": [
    {
     "data": {
      "text/plain": [
       "1256"
      ]
     },
     "execution_count": 9,
     "metadata": {},
     "output_type": "execute_result"
    }
   ],
   "source": [
    "max(result.values())"
   ]
  },
  {
   "cell_type": "code",
   "execution_count": null,
   "metadata": {},
   "outputs": [],
   "source": []
  }
 ],
 "metadata": {
  "kernelspec": {
   "display_name": "Python 3 (ipykernel)",
   "language": "python",
   "name": "python3"
  },
  "language_info": {
   "codemirror_mode": {
    "name": "ipython",
    "version": 3
   },
   "file_extension": ".py",
   "mimetype": "text/x-python",
   "name": "python",
   "nbconvert_exporter": "python",
   "pygments_lexer": "ipython3",
   "version": "3.9.1"
  }
 },
 "nbformat": 4,
 "nbformat_minor": 4
}
