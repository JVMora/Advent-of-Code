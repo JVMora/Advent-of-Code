{
 "cells": [
  {
   "cell_type": "code",
   "execution_count": 1,
   "metadata": {},
   "outputs": [],
   "source": [
    "from z3 import *\n",
    "from itertools import chain, repeat, combinations, product\n",
    "from toolz import unique\n",
    "from operator import itemgetter\n",
    "from collections import Counter"
   ]
  },
  {
   "cell_type": "code",
   "execution_count": 2,
   "metadata": {},
   "outputs": [],
   "source": [
    "from z3_utils_hakank import *"
   ]
  },
  {
   "cell_type": "code",
   "execution_count": 3,
   "metadata": {},
   "outputs": [],
   "source": [
    "data = [line.rstrip(')\\n').split(' (contains ')  for line in open('input2020_21.txt', 'r').readlines()]"
   ]
  },
  {
   "cell_type": "code",
   "execution_count": 4,
   "metadata": {},
   "outputs": [],
   "source": [
    "food_names = list(unique(chain.from_iterable([i.split(' ') for i, j in data])))\n",
    "allergen_names = list(unique(chain.from_iterable([j.split(', ') for i, j in data])))"
   ]
  },
  {
   "cell_type": "code",
   "execution_count": 6,
   "metadata": {},
   "outputs": [],
   "source": [
    "allerg = {k:v for v, k in enumerate(allergen_names)}\n",
    "foods = {k:v for v, k in enumerate(food_names)}"
   ]
  },
  {
   "cell_type": "code",
   "execution_count": 13,
   "metadata": {},
   "outputs": [],
   "source": [
    "sol = Solver()"
   ]
  },
  {
   "cell_type": "code",
   "execution_count": 14,
   "metadata": {},
   "outputs": [],
   "source": [
    "# variables\n",
    "p = {}\n",
    "n = len(allergen_names)\n",
    "m = len(food_names)\n",
    "for i in range(n):\n",
    "    for j in range(m):\n",
    "        p[(i,j)] = makeIntVar(sol,\"p[%i,%i]\" % (i,j),0,1)\n",
    "#print(\"p:\",p)"
   ]
  },
  {
   "cell_type": "code",
   "execution_count": 15,
   "metadata": {},
   "outputs": [],
   "source": [
    "# [mxmxvkd, kfcds, sqjhc, nhms, trh, fvjkl, sbzzf]\n",
    "# [dairy, fish, soy]"
   ]
  },
  {
   "cell_type": "code",
   "execution_count": 16,
   "metadata": {},
   "outputs": [],
   "source": [
    "# max 1 allergen per food\n",
    "for j in range(m):\n",
    "    sol.add(Sum([p[(i,j)] for i in range(n)]) <= 1)"
   ]
  },
  {
   "cell_type": "code",
   "execution_count": 17,
   "metadata": {},
   "outputs": [],
   "source": [
    "# all allergens must be placed and only at one food\n",
    "for i in range(n):\n",
    "    sol.add(Sum([p[(i,j)] for j in range(m)]) == 1)"
   ]
  },
  {
   "cell_type": "code",
   "execution_count": 19,
   "metadata": {},
   "outputs": [],
   "source": [
    "for i, j in data:\n",
    "    #A = i.split(' ')\n",
    "    #B = j.split(', ')\n",
    "    food_v = list(map(foods.get, i.split(' '))) #itemgetter(*A)(foods)\n",
    "    allerg_v = list(map(allerg.get, j.split(', '))) #itemgetter(*B)(allerg)\n",
    "    \n",
    "    for k in allerg_v:\n",
    "        l = list(map(lambda x: (k, x), food_v))\n",
    "        sol.add(And(Or([p[(c, d)] == 1 for c, d in l]))) # product(food_v, allerg_v)"
   ]
  },
  {
   "cell_type": "code",
   "execution_count": 20,
   "metadata": {},
   "outputs": [],
   "source": [
    "solution = []\n",
    "sol.check()\n",
    "mod = sol.model()\n",
    "for i in range(n):\n",
    "    for j in range(m):\n",
    "        if mod.eval(p[(i,j)]) == 1:\n",
    "            f_sol = list(foods.keys())[list(foods.values()).index(j)]\n",
    "            a_sol = list(allerg.keys())[list(allerg.values()).index(i)]\n",
    "            solution.append((f_sol, a_sol))"
   ]
  },
  {
   "cell_type": "code",
   "execution_count": 27,
   "metadata": {},
   "outputs": [
    {
     "data": {
      "text/plain": [
       "2307"
      ]
     },
     "execution_count": 27,
     "metadata": {},
     "output_type": "execute_result"
    }
   ],
   "source": [
    "with_allergen = set(map(lambda x: x[0], solution))\n",
    "without_allergen = list(set(food_names) - with_allergen)\n",
    "freq = list(chain.from_iterable([i.split(' ') for i, j in data]))\n",
    "sum(list(map(Counter(freq).get, without_allergen)))"
   ]
  },
  {
   "cell_type": "code",
   "execution_count": 28,
   "metadata": {},
   "outputs": [],
   "source": [
    "# Part b"
   ]
  },
  {
   "cell_type": "code",
   "execution_count": 29,
   "metadata": {},
   "outputs": [
    {
     "data": {
      "text/plain": [
       "'cljf,frtfg,vvfjj,qmrps,hvnkk,qnvx,cpxmpc,qsjszn'"
      ]
     },
     "execution_count": 29,
     "metadata": {},
     "output_type": "execute_result"
    }
   ],
   "source": [
    "','.join(list(map(lambda x: x[0], sorted(solution, key = lambda x: x[1]))))"
   ]
  }
 ],
 "metadata": {
  "kernelspec": {
   "display_name": "Python 3 (ipykernel)",
   "language": "python",
   "name": "python3"
  },
  "language_info": {
   "codemirror_mode": {
    "name": "ipython",
    "version": 3
   },
   "file_extension": ".py",
   "mimetype": "text/x-python",
   "name": "python",
   "nbconvert_exporter": "python",
   "pygments_lexer": "ipython3",
   "version": "3.9.1"
  }
 },
 "nbformat": 4,
 "nbformat_minor": 4
}
