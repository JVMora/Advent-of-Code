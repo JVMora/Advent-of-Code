{
 "cells": [
  {
   "cell_type": "code",
   "execution_count": 1,
   "metadata": {},
   "outputs": [],
   "source": [
    "import re\n",
    "from itertools import permutations, product\n",
    "from toolz import sliding_window"
   ]
  },
  {
   "cell_type": "code",
   "execution_count": 2,
   "metadata": {},
   "outputs": [],
   "source": [
    "table = [line.rstrip() for line in open('input2015_13.txt', 'r').readlines()]"
   ]
  },
  {
   "cell_type": "code",
   "execution_count": 3,
   "metadata": {},
   "outputs": [],
   "source": [
    "happiness = {}\n",
    "for i in table:\n",
    "    attendee1, attendee2, happi = i[:-1].split()[0], i[:-1].split()[-1], re.findall(r'\\d+', i)[0]\n",
    "    if 'gain' in i:\n",
    "        happiness[(attendee1, attendee2)] = int(happi)\n",
    "    else:\n",
    "        happiness[(attendee1, attendee2)] = -int(happi)"
   ]
  },
  {
   "cell_type": "code",
   "execution_count": 4,
   "metadata": {},
   "outputs": [],
   "source": [
    "def table_happiness(guests):\n",
    "    return sum([happiness[(i, j)] + happiness[(j, i)] for i, j in sliding_window(2, guests)])"
   ]
  },
  {
   "cell_type": "code",
   "execution_count": 5,
   "metadata": {},
   "outputs": [],
   "source": [
    "def MH(l):\n",
    "    max_happiness = 0\n",
    "    for i in permutations(l, len(l)):\n",
    "        if i[0] == 'Alice':\n",
    "            j = list(i)\n",
    "            j.append('Alice')\n",
    "            tbl_hap = table_happiness(j)\n",
    "            if tbl_hap > max_happiness:\n",
    "                max_happiness = tbl_hap\n",
    "    return max_happiness"
   ]
  },
  {
   "cell_type": "code",
   "execution_count": 6,
   "metadata": {},
   "outputs": [
    {
     "data": {
      "text/plain": [
       "733"
      ]
     },
     "execution_count": 6,
     "metadata": {},
     "output_type": "execute_result"
    }
   ],
   "source": [
    "g = ['Alice', 'Bob', 'Carol','David', 'Eric', 'Frank', 'George', 'Mallory']\n",
    "MH(g)"
   ]
  },
  {
   "cell_type": "code",
   "execution_count": 7,
   "metadata": {},
   "outputs": [],
   "source": [
    "# Part b"
   ]
  },
  {
   "cell_type": "code",
   "execution_count": 8,
   "metadata": {},
   "outputs": [],
   "source": [
    "for i in product(['Me'], g):\n",
    "    happiness[i] = 0\n",
    "    happiness[tuple(reversed(i))] = 0"
   ]
  },
  {
   "cell_type": "code",
   "execution_count": 9,
   "metadata": {},
   "outputs": [
    {
     "data": {
      "text/plain": [
       "725"
      ]
     },
     "execution_count": 9,
     "metadata": {},
     "output_type": "execute_result"
    }
   ],
   "source": [
    "g = ['Alice', 'Bob', 'Carol','David', 'Eric', 'Frank', 'George', 'Mallory', 'Me']\n",
    "MH(g)"
   ]
  },
  {
   "cell_type": "code",
   "execution_count": null,
   "metadata": {},
   "outputs": [],
   "source": []
  }
 ],
 "metadata": {
  "kernelspec": {
   "display_name": "Python 3 (ipykernel)",
   "language": "python",
   "name": "python3"
  },
  "language_info": {
   "codemirror_mode": {
    "name": "ipython",
    "version": 3
   },
   "file_extension": ".py",
   "mimetype": "text/x-python",
   "name": "python",
   "nbconvert_exporter": "python",
   "pygments_lexer": "ipython3",
   "version": "3.9.1"
  }
 },
 "nbformat": 4,
 "nbformat_minor": 4
}
