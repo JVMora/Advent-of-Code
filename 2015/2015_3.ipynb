{
 "cells": [
  {
   "cell_type": "code",
   "execution_count": 1,
   "metadata": {},
   "outputs": [],
   "source": [
    "route = [line for line in open('input2015_3.txt', 'r').readlines()][0]"
   ]
  },
  {
   "cell_type": "code",
   "execution_count": 2,
   "metadata": {},
   "outputs": [],
   "source": [
    "deltas = {'^': (0, 1), '<': (-1, 0), '>': (1, 0), 'v': (0, -1)}"
   ]
  },
  {
   "cell_type": "code",
   "execution_count": 3,
   "metadata": {},
   "outputs": [],
   "source": [
    "houses = set()\n",
    "x, y = 0, 0\n",
    "houses.add((x, y))\n",
    "for i in route:\n",
    "    dx, dy = deltas[i]\n",
    "    x += dx\n",
    "    y += dy\n",
    "    houses.add((x, y))"
   ]
  },
  {
   "cell_type": "code",
   "execution_count": 4,
   "metadata": {},
   "outputs": [
    {
     "data": {
      "text/plain": [
       "2592"
      ]
     },
     "execution_count": 4,
     "metadata": {},
     "output_type": "execute_result"
    }
   ],
   "source": [
    "len(houses)"
   ]
  },
  {
   "cell_type": "code",
   "execution_count": 5,
   "metadata": {},
   "outputs": [],
   "source": [
    "# Part 2"
   ]
  },
  {
   "cell_type": "code",
   "execution_count": 6,
   "metadata": {},
   "outputs": [],
   "source": [
    "s_houses = set()\n",
    "r_houses = set()\n",
    "xs, ys = 0, 0\n",
    "xr, yr = 0, 0\n",
    "s_houses.add((xs, ys))\n",
    "r_houses.add((xr, yr))"
   ]
  },
  {
   "cell_type": "code",
   "execution_count": 7,
   "metadata": {},
   "outputs": [],
   "source": [
    "for i, j in enumerate(route):\n",
    "    if i % 2 == 0:\n",
    "        dxs, dys = deltas[j]\n",
    "        xs += dxs\n",
    "        ys += dys\n",
    "        s_houses.add((xs, ys))\n",
    "    else:\n",
    "        dxr, dyr = deltas[j]\n",
    "        xr += dxr\n",
    "        yr += dyr\n",
    "        r_houses.add((xr, yr))     "
   ]
  },
  {
   "cell_type": "code",
   "execution_count": 8,
   "metadata": {},
   "outputs": [
    {
     "data": {
      "text/plain": [
       "2360"
      ]
     },
     "execution_count": 8,
     "metadata": {},
     "output_type": "execute_result"
    }
   ],
   "source": [
    "len(s_houses) + len(r_houses) - len(s_houses.intersection(r_houses))"
   ]
  },
  {
   "cell_type": "code",
   "execution_count": null,
   "metadata": {},
   "outputs": [],
   "source": []
  }
 ],
 "metadata": {
  "kernelspec": {
   "display_name": "Python 3 (ipykernel)",
   "language": "python",
   "name": "python3"
  },
  "language_info": {
   "codemirror_mode": {
    "name": "ipython",
    "version": 3
   },
   "file_extension": ".py",
   "mimetype": "text/x-python",
   "name": "python",
   "nbconvert_exporter": "python",
   "pygments_lexer": "ipython3",
   "version": "3.9.1"
  }
 },
 "nbformat": 4,
 "nbformat_minor": 4
}
